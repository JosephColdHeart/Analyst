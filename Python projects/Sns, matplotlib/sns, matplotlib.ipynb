{
 "cells": [
  {
   "cell_type": "code",
   "execution_count": 1,
   "id": "458998d5",
   "metadata": {},
   "outputs": [],
   "source": [
    "# импортируем Pandas\n",
    "import pandas as pd \n",
    "import matplotlib.pyplot as plt\n",
    "import seaborn as sns"
   ]
  },
  {
   "cell_type": "code",
   "execution_count": 2,
   "id": "b93228d2",
   "metadata": {},
   "outputs": [],
   "source": [
    "# подключимся к данным по тренировкам\n",
    "workouts = pd.read_csv('workouts.csv', parse_dates=['start_at']) \n",
    "\n",
    "# подключимся к данным по пользователям\n",
    "users = pd.read_excel('users.xlsx')\n",
    "\n",
    "# подключимся к данным по оплатам\n",
    "payments = pd.read_excel('payments.xlsx') \n",
    "\n",
    "# подключимся к данным маркетинга\n",
    "marketing = pd.read_excel('marketing.xlsx') "
   ]
  },
  {
   "cell_type": "code",
   "execution_count": 3,
   "id": "2bb6c858",
   "metadata": {},
   "outputs": [
    {
     "data": {
      "text/html": [
       "<div>\n",
       "<style scoped>\n",
       "    .dataframe tbody tr th:only-of-type {\n",
       "        vertical-align: middle;\n",
       "    }\n",
       "\n",
       "    .dataframe tbody tr th {\n",
       "        vertical-align: top;\n",
       "    }\n",
       "\n",
       "    .dataframe thead th {\n",
       "        text-align: right;\n",
       "    }\n",
       "</style>\n",
       "<table border=\"1\" class=\"dataframe\">\n",
       "  <thead>\n",
       "    <tr style=\"text-align: right;\">\n",
       "      <th></th>\n",
       "      <th>user_id</th>\n",
       "      <th>payment_id</th>\n",
       "      <th>workout_type</th>\n",
       "      <th>amount</th>\n",
       "      <th>payment_date</th>\n",
       "      <th>payment_datetime</th>\n",
       "      <th>geo_group</th>\n",
       "    </tr>\n",
       "  </thead>\n",
       "  <tbody>\n",
       "    <tr>\n",
       "      <th>0</th>\n",
       "      <td>132815</td>\n",
       "      <td>1535249</td>\n",
       "      <td>general</td>\n",
       "      <td>10337.768848</td>\n",
       "      <td>2020-01-30 15:03:59</td>\n",
       "      <td>2020-01-30 15:03:59</td>\n",
       "      <td>Регионы РФ</td>\n",
       "    </tr>\n",
       "    <tr>\n",
       "      <th>1</th>\n",
       "      <td>165987</td>\n",
       "      <td>2395447</td>\n",
       "      <td>general</td>\n",
       "      <td>9711.925350</td>\n",
       "      <td>2020-08-18 21:59:09</td>\n",
       "      <td>2020-08-18 21:59:09</td>\n",
       "      <td>СНГ</td>\n",
       "    </tr>\n",
       "    <tr>\n",
       "      <th>2</th>\n",
       "      <td>165987</td>\n",
       "      <td>2226467</td>\n",
       "      <td>general</td>\n",
       "      <td>9216.755623</td>\n",
       "      <td>2020-07-08 19:34:29</td>\n",
       "      <td>2020-07-08 19:34:29</td>\n",
       "      <td>СНГ</td>\n",
       "    </tr>\n",
       "    <tr>\n",
       "      <th>3</th>\n",
       "      <td>165987</td>\n",
       "      <td>2710743</td>\n",
       "      <td>general</td>\n",
       "      <td>9811.925350</td>\n",
       "      <td>2020-10-26 20:32:55</td>\n",
       "      <td>2020-10-26 20:32:55</td>\n",
       "      <td>СНГ</td>\n",
       "    </tr>\n",
       "    <tr>\n",
       "      <th>4</th>\n",
       "      <td>165987</td>\n",
       "      <td>2844567</td>\n",
       "      <td>general</td>\n",
       "      <td>9811.925350</td>\n",
       "      <td>2020-11-24 09:37:00</td>\n",
       "      <td>2020-11-24 09:37:00</td>\n",
       "      <td>СНГ</td>\n",
       "    </tr>\n",
       "  </tbody>\n",
       "</table>\n",
       "</div>"
      ],
      "text/plain": [
       "   user_id  payment_id workout_type        amount        payment_date  \\\n",
       "0   132815     1535249      general  10337.768848 2020-01-30 15:03:59   \n",
       "1   165987     2395447      general   9711.925350 2020-08-18 21:59:09   \n",
       "2   165987     2226467      general   9216.755623 2020-07-08 19:34:29   \n",
       "3   165987     2710743      general   9811.925350 2020-10-26 20:32:55   \n",
       "4   165987     2844567      general   9811.925350 2020-11-24 09:37:00   \n",
       "\n",
       "     payment_datetime   geo_group  \n",
       "0 2020-01-30 15:03:59  Регионы РФ  \n",
       "1 2020-08-18 21:59:09         СНГ  \n",
       "2 2020-07-08 19:34:29         СНГ  \n",
       "3 2020-10-26 20:32:55         СНГ  \n",
       "4 2020-11-24 09:37:00         СНГ  "
      ]
     },
     "execution_count": 3,
     "metadata": {},
     "output_type": "execute_result"
    }
   ],
   "source": [
    "# переводим даты в нужный формат\n",
    "payments['payment_datetime'] = pd.to_datetime(payments.payment_date) \n",
    "\n",
    "# объединим платежи и данные о географии студентов\n",
    "payments_with_geo = pd.merge(payments, \n",
    "                             users[['user_id','geo_group']], \n",
    "                             on='user_id') \n",
    "payments_with_geo.head()"
   ]
  },
  {
   "cell_type": "code",
   "execution_count": 20,
   "id": "76afbe9c",
   "metadata": {},
   "outputs": [
    {
     "data": {
      "text/html": [
       "<div>\n",
       "<style scoped>\n",
       "    .dataframe tbody tr th:only-of-type {\n",
       "        vertical-align: middle;\n",
       "    }\n",
       "\n",
       "    .dataframe tbody tr th {\n",
       "        vertical-align: top;\n",
       "    }\n",
       "\n",
       "    .dataframe thead th {\n",
       "        text-align: right;\n",
       "    }\n",
       "</style>\n",
       "<table border=\"1\" class=\"dataframe\">\n",
       "  <thead>\n",
       "    <tr style=\"text-align: right;\">\n",
       "      <th></th>\n",
       "      <th>payment_date</th>\n",
       "      <th>geo_group</th>\n",
       "      <th>user_id</th>\n",
       "    </tr>\n",
       "  </thead>\n",
       "  <tbody>\n",
       "    <tr>\n",
       "      <th>0</th>\n",
       "      <td>1</td>\n",
       "      <td>Без страны</td>\n",
       "      <td>2</td>\n",
       "    </tr>\n",
       "    <tr>\n",
       "      <th>1</th>\n",
       "      <td>1</td>\n",
       "      <td>Москва</td>\n",
       "      <td>194</td>\n",
       "    </tr>\n",
       "    <tr>\n",
       "      <th>2</th>\n",
       "      <td>1</td>\n",
       "      <td>Регионы РФ</td>\n",
       "      <td>169</td>\n",
       "    </tr>\n",
       "    <tr>\n",
       "      <th>3</th>\n",
       "      <td>1</td>\n",
       "      <td>СНГ</td>\n",
       "      <td>58</td>\n",
       "    </tr>\n",
       "    <tr>\n",
       "      <th>4</th>\n",
       "      <td>2</td>\n",
       "      <td>Москва</td>\n",
       "      <td>207</td>\n",
       "    </tr>\n",
       "  </tbody>\n",
       "</table>\n",
       "</div>"
      ],
      "text/plain": [
       "   payment_date   geo_group  user_id\n",
       "0             1  Без страны        2\n",
       "1             1      Москва      194\n",
       "2             1  Регионы РФ      169\n",
       "3             1         СНГ       58\n",
       "4             2      Москва      207"
      ]
     },
     "execution_count": 20,
     "metadata": {},
     "output_type": "execute_result"
    }
   ],
   "source": [
    "# вычисляем даты первых оплат для каждого клиента\n",
    "fst_payment = payments_with_geo.groupby(['user_id', 'geo_group'])['payment_date'].min() \n",
    "\n",
    "# сбрасываем индекс\n",
    "fst_payment = fst_payment.reset_index() \n",
    "\n",
    "# считаем количество первых оплат в каждом месяце и гео-группе\n",
    "fst_payment_month = fst_payment.groupby([fst_payment['payment_date'].dt.month,\n",
    "                                         fst_payment['geo_group']])['user_id'].count().reset_index() \n",
    "\n",
    "fst_payment_month.head()"
   ]
  },
  {
   "cell_type": "code",
   "execution_count": 5,
   "id": "80abdeec",
   "metadata": {},
   "outputs": [
    {
     "data": {
      "text/html": [
       "<div>\n",
       "<style scoped>\n",
       "    .dataframe tbody tr th:only-of-type {\n",
       "        vertical-align: middle;\n",
       "    }\n",
       "\n",
       "    .dataframe tbody tr th {\n",
       "        vertical-align: top;\n",
       "    }\n",
       "\n",
       "    .dataframe thead th {\n",
       "        text-align: right;\n",
       "    }\n",
       "</style>\n",
       "<table border=\"1\" class=\"dataframe\">\n",
       "  <thead>\n",
       "    <tr style=\"text-align: right;\">\n",
       "      <th></th>\n",
       "      <th>month</th>\n",
       "      <th>sales</th>\n",
       "      <th>budget</th>\n",
       "    </tr>\n",
       "  </thead>\n",
       "  <tbody>\n",
       "    <tr>\n",
       "      <th>0</th>\n",
       "      <td>1</td>\n",
       "      <td>421</td>\n",
       "      <td>1.363459e+06</td>\n",
       "    </tr>\n",
       "    <tr>\n",
       "      <th>1</th>\n",
       "      <td>2</td>\n",
       "      <td>490</td>\n",
       "      <td>1.985795e+06</td>\n",
       "    </tr>\n",
       "    <tr>\n",
       "      <th>2</th>\n",
       "      <td>3</td>\n",
       "      <td>488</td>\n",
       "      <td>1.990748e+06</td>\n",
       "    </tr>\n",
       "    <tr>\n",
       "      <th>3</th>\n",
       "      <td>4</td>\n",
       "      <td>698</td>\n",
       "      <td>4.308354e+06</td>\n",
       "    </tr>\n",
       "    <tr>\n",
       "      <th>4</th>\n",
       "      <td>5</td>\n",
       "      <td>432</td>\n",
       "      <td>1.499338e+06</td>\n",
       "    </tr>\n",
       "  </tbody>\n",
       "</table>\n",
       "</div>"
      ],
      "text/plain": [
       "   month  sales        budget\n",
       "0      1    421  1.363459e+06\n",
       "1      2    490  1.985795e+06\n",
       "2      3    488  1.990748e+06\n",
       "3      4    698  4.308354e+06\n",
       "4      5    432  1.499338e+06"
      ]
     },
     "execution_count": 5,
     "metadata": {},
     "output_type": "execute_result"
    }
   ],
   "source": [
    "# переименовали с помощью метода .columns\n",
    "fst_payment_month.columns = ['month', 'geo_group', 'sales'] \n",
    "\n",
    "# объединим первые оплаты с данными о затратах на маркетинг\n",
    "marketing_sales = pd.merge(fst_payment_month, \n",
    "                           marketing, \n",
    "                           on=['geo_group','month'])\n",
    "# найдём общее количество привлеченных клиентов и сумму затрат на маркетинг\n",
    "marketing_sales_total = marketing_sales.groupby('month')[['sales','budget']].sum().reset_index()\n",
    "\n",
    "marketing_sales_total.head()"
   ]
  },
  {
   "cell_type": "code",
   "execution_count": 6,
   "id": "ea420574",
   "metadata": {},
   "outputs": [
    {
     "data": {
      "image/png": "[encoded data removed]",
      "text/plain": [
       "<Figure size 504x504 with 1 Axes>"
      ]
     },
     "metadata": {
      "needs_background": "light"
     },
     "output_type": "display_data"
    }
   ],
   "source": [
    "# построим график\n",
    "plt.figure(figsize=(7, 7))  \n",
    "\n",
    "# подпишем оси и название \n",
    "plt.title('Зависимость количества привлеченных клиентов от затрат на маркетинг (помесячно)') \n",
    "plt.xlabel('Затраты на маркетинг, р') \n",
    "plt.ylabel('Первых покупок') \n",
    "\n",
    "plt.grid()  # включим сетку\n",
    "\n",
    "# передали 3 аргумента\n",
    "plt.scatter(\n",
    "        marketing_sales_total['budget'], \n",
    "        marketing_sales_total['sales'], \n",
    "        alpha = 0.7  # прозрачность точек\n",
    ")\n",
    "\n",
    "plt.show() "
   ]
  },
  {
   "cell_type": "markdown",
   "id": "600a6189",
   "metadata": {},
   "source": [
    "Посмотрим, как выглядят наши затраты на маркетинг в разных гео-группах"
   ]
  },
  {
   "cell_type": "code",
   "execution_count": 7,
   "id": "6d7fb818",
   "metadata": {},
   "outputs": [
    {
     "data": {
      "text/plain": [
       "{'Москва', 'Регионы РФ', 'СНГ'}"
      ]
     },
     "execution_count": 7,
     "metadata": {},
     "output_type": "execute_result"
    }
   ],
   "source": [
    "# посмотрим какие уникальные geo_group существуют\n",
    "geo_groups = set(marketing_sales['geo_group'])\n",
    "geo_groups"
   ]
  },
  {
   "cell_type": "code",
   "execution_count": 8,
   "id": "e05a3157",
   "metadata": {},
   "outputs": [
    {
     "data": {
      "text/plain": [
       "0            c\n",
       "1    tab:olive\n",
       "2            r\n",
       "3            c\n",
       "4    tab:olive\n",
       "5            r\n",
       "6            c\n",
       "7    tab:olive\n",
       "8            r\n",
       "9            c\n",
       "Name: geo_group, dtype: object"
      ]
     },
     "execution_count": 8,
     "metadata": {},
     "output_type": "execute_result"
    }
   ],
   "source": [
    "# зададим цвет для каждой группы\n",
    "\n",
    "colors = {'Москва':'c', \n",
    "          'Регионы РФ':'tab:olive', \n",
    "          'СНГ':'r', \n",
    "          'Без страны':'k'} \n",
    "# передадим в качестве аргумента \n",
    "marketing_sales['geo_group'].map(colors).head(10)"
   ]
  },
  {
   "cell_type": "code",
   "execution_count": 9,
   "id": "540209e5",
   "metadata": {},
   "outputs": [
    {
     "data": {
      "image/png": "[encoded data removed]",
      "text/plain": [
       "<Figure size 504x504 with 1 Axes>"
      ]
     },
     "metadata": {
      "needs_background": "light"
     },
     "output_type": "display_data"
    }
   ],
   "source": [
    "plt.figure(figsize=(7, 7))  # зададим размер фигуры\n",
    "\n",
    "# названия осей и графика\n",
    "plt.title('Зависимость количества привлеченных клиентов от затрат на маркетинг (помесячно)') \n",
    "plt.xlabel('Затраты на маркетинг') \n",
    "plt.ylabel('Первых покупок') \n",
    "plt.grid() # сетка\n",
    "\n",
    "scatter = plt.scatter(\n",
    "    marketing_sales.budget, # ось OX \n",
    "    marketing_sales.sales, # ось OY\n",
    "    \n",
    "    c = marketing_sales['geo_group'].map(colors),  # задаем цвета точек как четвертое измерение\n",
    "    alpha = 0.5 # прозрачность 50%\n",
    ")\n",
    "plt.show()"
   ]
  },
  {
   "cell_type": "markdown",
   "id": "dcd16e95",
   "metadata": {},
   "source": [
    "### Задача\n",
    "\n",
    "Мы хотим исследовать динамику общего количества тренировок в течение года по неделям."
   ]
  },
  {
   "cell_type": "code",
   "execution_count": 10,
   "id": "caca02f6",
   "metadata": {},
   "outputs": [
    {
     "data": {
      "text/plain": [
       "start_at\n",
       "2020-01-05      24\n",
       "2020-01-12     122\n",
       "2020-01-19     270\n",
       "2020-01-26     427\n",
       "2020-02-02     571\n",
       "2020-02-09     795\n",
       "2020-02-16     959\n",
       "2020-02-23    1075\n",
       "2020-03-01    1241\n",
       "2020-03-08    1339\n",
       "Freq: W-SUN, Name: workout_id, dtype: int64"
      ]
     },
     "execution_count": 10,
     "metadata": {},
     "output_type": "execute_result"
    }
   ],
   "source": [
    "# записываем новый датасет с количеством тренировок по неделям\n",
    "workouts_byweek = workouts.resample('W', on='start_at')['workout_id'].count() \n",
    "\n",
    "#выведем первые 10 элементов\n",
    "workouts_byweek.head(10)"
   ]
  },
  {
   "cell_type": "code",
   "execution_count": 11,
   "id": "fe1ccb83",
   "metadata": {},
   "outputs": [
    {
     "data": {
      "image/png": "[encoded data removed]",
      "text/plain": [
       "<Figure size 720x360 with 1 Axes>"
      ]
     },
     "metadata": {
      "needs_background": "light"
     },
     "output_type": "display_data"
    }
   ],
   "source": [
    "plt.figure(figsize=(10, 5)) # размеры графика\n",
    "# названия и подписи\n",
    "plt.title('Распределение количества тренировок по неделям') \n",
    "plt.xlabel('Дата') \n",
    "plt.ylabel('Количество тренировок') \n",
    "plt.grid() # сетка\n",
    "# с помощью iloc срезали \"хвост\"\n",
    "plt.plot(workouts_byweek.iloc[:-1],linewidth=4) #количество тренировок в каждую неделю \n",
    "plt.show()"
   ]
  },
  {
   "cell_type": "markdown",
   "id": "b7499eb3",
   "metadata": {},
   "source": [
    "### Задача\n",
    "\n",
    "Мы хотим исследовать динамику общего количества тренировок в течение года по неделям."
   ]
  },
  {
   "cell_type": "code",
   "execution_count": 12,
   "id": "7efef405",
   "metadata": {},
   "outputs": [
    {
     "name": "stderr",
     "output_type": "stream",
     "text": [
      "C:\\Users\\josep\\AppData\\Local\\Temp\\ipykernel_12532\\1438559351.py:6: FutureWarning: Series.dt.weekofyear and Series.dt.week have been deprecated. Please use Series.dt.isocalendar().week instead.\n",
      "  weeks = workouts['start_at'].dt.week\n"
     ]
    },
    {
     "data": {
      "text/html": [
       "<div>\n",
       "<style scoped>\n",
       "    .dataframe tbody tr th:only-of-type {\n",
       "        vertical-align: middle;\n",
       "    }\n",
       "\n",
       "    .dataframe tbody tr th {\n",
       "        vertical-align: top;\n",
       "    }\n",
       "\n",
       "    .dataframe thead th {\n",
       "        text-align: right;\n",
       "    }\n",
       "</style>\n",
       "<table border=\"1\" class=\"dataframe\">\n",
       "  <thead>\n",
       "    <tr style=\"text-align: right;\">\n",
       "      <th></th>\n",
       "      <th>client_id</th>\n",
       "      <th>start_at</th>\n",
       "      <th>workout_id</th>\n",
       "    </tr>\n",
       "  </thead>\n",
       "  <tbody>\n",
       "    <tr>\n",
       "      <th>0</th>\n",
       "      <td>185</td>\n",
       "      <td>15</td>\n",
       "      <td>3</td>\n",
       "    </tr>\n",
       "    <tr>\n",
       "      <th>1</th>\n",
       "      <td>185</td>\n",
       "      <td>18</td>\n",
       "      <td>2</td>\n",
       "    </tr>\n",
       "    <tr>\n",
       "      <th>2</th>\n",
       "      <td>185</td>\n",
       "      <td>19</td>\n",
       "      <td>1</td>\n",
       "    </tr>\n",
       "    <tr>\n",
       "      <th>3</th>\n",
       "      <td>185</td>\n",
       "      <td>20</td>\n",
       "      <td>1</td>\n",
       "    </tr>\n",
       "    <tr>\n",
       "      <th>4</th>\n",
       "      <td>185</td>\n",
       "      <td>21</td>\n",
       "      <td>2</td>\n",
       "    </tr>\n",
       "    <tr>\n",
       "      <th>5</th>\n",
       "      <td>185</td>\n",
       "      <td>22</td>\n",
       "      <td>1</td>\n",
       "    </tr>\n",
       "    <tr>\n",
       "      <th>6</th>\n",
       "      <td>185</td>\n",
       "      <td>23</td>\n",
       "      <td>2</td>\n",
       "    </tr>\n",
       "    <tr>\n",
       "      <th>7</th>\n",
       "      <td>185</td>\n",
       "      <td>25</td>\n",
       "      <td>1</td>\n",
       "    </tr>\n",
       "    <tr>\n",
       "      <th>8</th>\n",
       "      <td>185</td>\n",
       "      <td>26</td>\n",
       "      <td>1</td>\n",
       "    </tr>\n",
       "    <tr>\n",
       "      <th>9</th>\n",
       "      <td>185</td>\n",
       "      <td>30</td>\n",
       "      <td>1</td>\n",
       "    </tr>\n",
       "  </tbody>\n",
       "</table>\n",
       "</div>"
      ],
      "text/plain": [
       "   client_id  start_at  workout_id\n",
       "0        185        15           3\n",
       "1        185        18           2\n",
       "2        185        19           1\n",
       "3        185        20           1\n",
       "4        185        21           2\n",
       "5        185        22           1\n",
       "6        185        23           2\n",
       "7        185        25           1\n",
       "8        185        26           1\n",
       "9        185        30           1"
      ]
     },
     "execution_count": 12,
     "metadata": {},
     "output_type": "execute_result"
    }
   ],
   "source": [
    "# отбираем только интересующие нас тренировки\n",
    "client_week_workouts = workouts[(workouts.status=='success')&\n",
    "                                (workouts.workout_schedule_type!='trial')]\n",
    "# для группировки по id и неделям заранее вытащим нужные данные\n",
    "client_id = workouts['client_id']\n",
    "weeks = workouts['start_at'].dt.week\n",
    "# посчитаем кол-во тренировок\n",
    "client_week_workouts = client_week_workouts.groupby([client_id, weeks])['workout_id'].count().reset_index()\n",
    "client_week_workouts.head(10)"
   ]
  },
  {
   "cell_type": "code",
   "execution_count": 13,
   "id": "bbe87770",
   "metadata": {},
   "outputs": [
    {
     "data": {
      "text/plain": [
       "client_id\n",
       "185        1.480000\n",
       "1455       1.777778\n",
       "1558       1.333333\n",
       "5312       1.000000\n",
       "5804       1.200000\n",
       "             ...   \n",
       "5460246    1.595238\n",
       "5468992    1.833333\n",
       "5477981    1.375000\n",
       "5498391    1.333333\n",
       "5511356    1.333333\n",
       "Name: workout_id, Length: 4238, dtype: float64"
      ]
     },
     "execution_count": 13,
     "metadata": {},
     "output_type": "execute_result"
    }
   ],
   "source": [
    "# среднее кол-во тренировок в неделю\n",
    "avg_workouts_per_week = client_week_workouts.groupby('client_id')['workout_id'].mean()\n",
    "avg_workouts_per_week"
   ]
  },
  {
   "cell_type": "markdown",
   "id": "0b35a405",
   "metadata": {},
   "source": [
    "**Строим график**\n",
    "\n",
    "Построим гистограмму с помощью функции `hist()`, которая на вход принимает: "
   ]
  },
  {
   "cell_type": "code",
   "execution_count": 14,
   "id": "5c7959e9",
   "metadata": {},
   "outputs": [
    {
     "data": {
      "image/png": "[encoded data removed]",
      "text/plain": [
       "<Figure size 720x360 with 1 Axes>"
      ]
     },
     "metadata": {
      "needs_background": "light"
     },
     "output_type": "display_data"
    }
   ],
   "source": [
    "plt.figure(figsize=(10, 5)) # размерность\n",
    "plt.title('Распределение среднего недельного количества тренировок') \n",
    "plt.xlabel('Количество тренировок в неделю') \n",
    "plt.ylabel('Количество клиентов')\n",
    "\n",
    "plt.xlim((1, 3)) #отрежем выбросы\n",
    "\n",
    "plt.grid() # сетка\n",
    "\n",
    "#отрисовываем гистограмму\n",
    "plt.hist(avg_workouts_per_week, bins=50) #50 - количество бинов\n",
    "\n",
    "plt.show()"
   ]
  },
  {
   "cell_type": "code",
   "execution_count": 15,
   "id": "2cc45de2",
   "metadata": {},
   "outputs": [
    {
     "data": {
      "text/html": [
       "<div>\n",
       "<style scoped>\n",
       "    .dataframe tbody tr th:only-of-type {\n",
       "        vertical-align: middle;\n",
       "    }\n",
       "\n",
       "    .dataframe tbody tr th {\n",
       "        vertical-align: top;\n",
       "    }\n",
       "\n",
       "    .dataframe thead th {\n",
       "        text-align: right;\n",
       "    }\n",
       "</style>\n",
       "<table border=\"1\" class=\"dataframe\">\n",
       "  <thead>\n",
       "    <tr style=\"text-align: right;\">\n",
       "      <th></th>\n",
       "      <th>day</th>\n",
       "      <th>month</th>\n",
       "      <th>amount</th>\n",
       "    </tr>\n",
       "  </thead>\n",
       "  <tbody>\n",
       "    <tr>\n",
       "      <th>0</th>\n",
       "      <td>1</td>\n",
       "      <td>2</td>\n",
       "      <td>178773.732704</td>\n",
       "    </tr>\n",
       "    <tr>\n",
       "      <th>1</th>\n",
       "      <td>1</td>\n",
       "      <td>3</td>\n",
       "      <td>163031.504867</td>\n",
       "    </tr>\n",
       "    <tr>\n",
       "      <th>2</th>\n",
       "      <td>1</td>\n",
       "      <td>4</td>\n",
       "      <td>426633.406696</td>\n",
       "    </tr>\n",
       "    <tr>\n",
       "      <th>3</th>\n",
       "      <td>1</td>\n",
       "      <td>5</td>\n",
       "      <td>335634.608333</td>\n",
       "    </tr>\n",
       "    <tr>\n",
       "      <th>4</th>\n",
       "      <td>1</td>\n",
       "      <td>6</td>\n",
       "      <td>486702.074736</td>\n",
       "    </tr>\n",
       "  </tbody>\n",
       "</table>\n",
       "</div>"
      ],
      "text/plain": [
       "   day  month         amount\n",
       "0    1      2  178773.732704\n",
       "1    1      3  163031.504867\n",
       "2    1      4  426633.406696\n",
       "3    1      5  335634.608333\n",
       "4    1      6  486702.074736"
      ]
     },
     "execution_count": 15,
     "metadata": {},
     "output_type": "execute_result"
    }
   ],
   "source": [
    "revenue_byday_month = payments.groupby([payments['payment_date'].dt.day,\n",
    "                                        payments['payment_date'].dt.month])['amount'].sum()\n",
    "\n",
    "revenue_byday_month.index.names = ['day','month'] # переименовали шапку\n",
    "revenue_byday_month = revenue_byday_month.reset_index() #сбросили индекс\n",
    "revenue_byday_month.head()"
   ]
  },
  {
   "cell_type": "code",
   "execution_count": 16,
   "id": "18412c74",
   "metadata": {},
   "outputs": [
    {
     "data": {
      "image/png": "[encoded data removed]",
      "text/plain": [
       "<Figure size 720x360 with 1 Axes>"
      ]
     },
     "metadata": {
      "needs_background": "light"
     },
     "output_type": "display_data"
    }
   ],
   "source": [
    "plt.figure(figsize=(10, 5))  # зададим размер фигуры\n",
    "plt.title('Распределение количества тренировок по неделям') # подпишем заголовок графика\n",
    "plt.grid() # Добавим сетку\n",
    "#отрисовываем график\n",
    "sns.boxplot(x='month',\n",
    "            y='amount',\n",
    "            data=revenue_byday_month, \n",
    "            color='y')\n",
    "plt.ylabel('Выручка в день') # Подпишем ось Y\n",
    "plt.xlabel('Месяц') # Подпишем ось Y\n",
    "plt.show()"
   ]
  },
  {
   "cell_type": "markdown",
   "id": "45ce2f2a",
   "metadata": {},
   "source": [
    "### Задача \n",
    "\n",
    "Определить самые загруженные часы в течении недели"
   ]
  },
  {
   "cell_type": "code",
   "execution_count": 17,
   "id": "af036504",
   "metadata": {},
   "outputs": [
    {
     "data": {
      "text/html": [
       "<div>\n",
       "<style scoped>\n",
       "    .dataframe tbody tr th:only-of-type {\n",
       "        vertical-align: middle;\n",
       "    }\n",
       "\n",
       "    .dataframe tbody tr th {\n",
       "        vertical-align: top;\n",
       "    }\n",
       "\n",
       "    .dataframe thead th {\n",
       "        text-align: right;\n",
       "    }\n",
       "</style>\n",
       "<table border=\"1\" class=\"dataframe\">\n",
       "  <thead>\n",
       "    <tr style=\"text-align: right;\">\n",
       "      <th></th>\n",
       "      <th>hour</th>\n",
       "      <th>dayofweek</th>\n",
       "      <th>workout_id</th>\n",
       "    </tr>\n",
       "  </thead>\n",
       "  <tbody>\n",
       "    <tr>\n",
       "      <th>0</th>\n",
       "      <td>0</td>\n",
       "      <td>0</td>\n",
       "      <td>1</td>\n",
       "    </tr>\n",
       "    <tr>\n",
       "      <th>1</th>\n",
       "      <td>0</td>\n",
       "      <td>1</td>\n",
       "      <td>8</td>\n",
       "    </tr>\n",
       "    <tr>\n",
       "      <th>2</th>\n",
       "      <td>0</td>\n",
       "      <td>2</td>\n",
       "      <td>12</td>\n",
       "    </tr>\n",
       "    <tr>\n",
       "      <th>3</th>\n",
       "      <td>0</td>\n",
       "      <td>3</td>\n",
       "      <td>2</td>\n",
       "    </tr>\n",
       "    <tr>\n",
       "      <th>4</th>\n",
       "      <td>0</td>\n",
       "      <td>4</td>\n",
       "      <td>5</td>\n",
       "    </tr>\n",
       "  </tbody>\n",
       "</table>\n",
       "</div>"
      ],
      "text/plain": [
       "   hour  dayofweek  workout_id\n",
       "0     0          0           1\n",
       "1     0          1           8\n",
       "2     0          2          12\n",
       "3     0          3           2\n",
       "4     0          4           5"
      ]
     },
     "execution_count": 17,
     "metadata": {},
     "output_type": "execute_result"
    }
   ],
   "source": [
    "workouts['hour'] =  workouts['start_at'].dt.hour\n",
    "workouts['dayofweek'] = workouts['start_at'].dt.dayofweek\n",
    "\n",
    "# cгруппируем датасорс по часу и дню недели и посчитаем количество тренировок \n",
    "workouts_hourday = workouts.groupby(['hour', 'dayofweek']).workout_id.count()\n",
    "workouts_hourday = workouts_hourday.reset_index() # убираем колонки группировки из индекса\n",
    "\n",
    "# посмотрим на таблицу\n",
    "workouts_hourday.head()"
   ]
  },
  {
   "cell_type": "code",
   "execution_count": 18,
   "id": "558fb0a6",
   "metadata": {},
   "outputs": [
    {
     "data": {
      "text/html": [
       "<div>\n",
       "<style scoped>\n",
       "    .dataframe tbody tr th:only-of-type {\n",
       "        vertical-align: middle;\n",
       "    }\n",
       "\n",
       "    .dataframe tbody tr th {\n",
       "        vertical-align: top;\n",
       "    }\n",
       "\n",
       "    .dataframe thead th {\n",
       "        text-align: right;\n",
       "    }\n",
       "</style>\n",
       "<table border=\"1\" class=\"dataframe\">\n",
       "  <thead>\n",
       "    <tr style=\"text-align: right;\">\n",
       "      <th>hour</th>\n",
       "      <th>0</th>\n",
       "      <th>1</th>\n",
       "      <th>2</th>\n",
       "      <th>3</th>\n",
       "      <th>4</th>\n",
       "      <th>5</th>\n",
       "      <th>6</th>\n",
       "      <th>7</th>\n",
       "      <th>8</th>\n",
       "      <th>9</th>\n",
       "      <th>...</th>\n",
       "      <th>14</th>\n",
       "      <th>15</th>\n",
       "      <th>16</th>\n",
       "      <th>17</th>\n",
       "      <th>18</th>\n",
       "      <th>19</th>\n",
       "      <th>20</th>\n",
       "      <th>21</th>\n",
       "      <th>22</th>\n",
       "      <th>23</th>\n",
       "    </tr>\n",
       "  </thead>\n",
       "  <tbody>\n",
       "    <tr>\n",
       "      <th>Понедельник</th>\n",
       "      <td>1.0</td>\n",
       "      <td>3.0</td>\n",
       "      <td>1.0</td>\n",
       "      <td>0.0</td>\n",
       "      <td>17.0</td>\n",
       "      <td>26.0</td>\n",
       "      <td>142.0</td>\n",
       "      <td>369.0</td>\n",
       "      <td>602.0</td>\n",
       "      <td>1281.0</td>\n",
       "      <td>...</td>\n",
       "      <td>746.0</td>\n",
       "      <td>808.0</td>\n",
       "      <td>980.0</td>\n",
       "      <td>1187.0</td>\n",
       "      <td>1652.0</td>\n",
       "      <td>1961.0</td>\n",
       "      <td>1586.0</td>\n",
       "      <td>1199.0</td>\n",
       "      <td>391.0</td>\n",
       "      <td>77.0</td>\n",
       "    </tr>\n",
       "    <tr>\n",
       "      <th>Вторник</th>\n",
       "      <td>8.0</td>\n",
       "      <td>8.0</td>\n",
       "      <td>19.0</td>\n",
       "      <td>9.0</td>\n",
       "      <td>2.0</td>\n",
       "      <td>38.0</td>\n",
       "      <td>132.0</td>\n",
       "      <td>278.0</td>\n",
       "      <td>493.0</td>\n",
       "      <td>1075.0</td>\n",
       "      <td>...</td>\n",
       "      <td>723.0</td>\n",
       "      <td>639.0</td>\n",
       "      <td>898.0</td>\n",
       "      <td>1238.0</td>\n",
       "      <td>1324.0</td>\n",
       "      <td>1956.0</td>\n",
       "      <td>1715.0</td>\n",
       "      <td>1323.0</td>\n",
       "      <td>544.0</td>\n",
       "      <td>74.0</td>\n",
       "    </tr>\n",
       "    <tr>\n",
       "      <th>Среда</th>\n",
       "      <td>12.0</td>\n",
       "      <td>2.0</td>\n",
       "      <td>2.0</td>\n",
       "      <td>0.0</td>\n",
       "      <td>4.0</td>\n",
       "      <td>15.0</td>\n",
       "      <td>108.0</td>\n",
       "      <td>261.0</td>\n",
       "      <td>639.0</td>\n",
       "      <td>1059.0</td>\n",
       "      <td>...</td>\n",
       "      <td>701.0</td>\n",
       "      <td>700.0</td>\n",
       "      <td>801.0</td>\n",
       "      <td>1226.0</td>\n",
       "      <td>1519.0</td>\n",
       "      <td>1799.0</td>\n",
       "      <td>1480.0</td>\n",
       "      <td>1019.0</td>\n",
       "      <td>360.0</td>\n",
       "      <td>60.0</td>\n",
       "    </tr>\n",
       "    <tr>\n",
       "      <th>Четверг</th>\n",
       "      <td>2.0</td>\n",
       "      <td>1.0</td>\n",
       "      <td>1.0</td>\n",
       "      <td>3.0</td>\n",
       "      <td>14.0</td>\n",
       "      <td>18.0</td>\n",
       "      <td>138.0</td>\n",
       "      <td>189.0</td>\n",
       "      <td>505.0</td>\n",
       "      <td>1271.0</td>\n",
       "      <td>...</td>\n",
       "      <td>722.0</td>\n",
       "      <td>802.0</td>\n",
       "      <td>809.0</td>\n",
       "      <td>1185.0</td>\n",
       "      <td>1592.0</td>\n",
       "      <td>2188.0</td>\n",
       "      <td>1719.0</td>\n",
       "      <td>1101.0</td>\n",
       "      <td>499.0</td>\n",
       "      <td>141.0</td>\n",
       "    </tr>\n",
       "    <tr>\n",
       "      <th>Пятница</th>\n",
       "      <td>5.0</td>\n",
       "      <td>7.0</td>\n",
       "      <td>18.0</td>\n",
       "      <td>0.0</td>\n",
       "      <td>1.0</td>\n",
       "      <td>30.0</td>\n",
       "      <td>120.0</td>\n",
       "      <td>260.0</td>\n",
       "      <td>647.0</td>\n",
       "      <td>1228.0</td>\n",
       "      <td>...</td>\n",
       "      <td>855.0</td>\n",
       "      <td>817.0</td>\n",
       "      <td>884.0</td>\n",
       "      <td>1100.0</td>\n",
       "      <td>1100.0</td>\n",
       "      <td>1221.0</td>\n",
       "      <td>963.0</td>\n",
       "      <td>743.0</td>\n",
       "      <td>220.0</td>\n",
       "      <td>21.0</td>\n",
       "    </tr>\n",
       "    <tr>\n",
       "      <th>Суббота</th>\n",
       "      <td>7.0</td>\n",
       "      <td>6.0</td>\n",
       "      <td>2.0</td>\n",
       "      <td>0.0</td>\n",
       "      <td>3.0</td>\n",
       "      <td>11.0</td>\n",
       "      <td>45.0</td>\n",
       "      <td>136.0</td>\n",
       "      <td>345.0</td>\n",
       "      <td>821.0</td>\n",
       "      <td>...</td>\n",
       "      <td>847.0</td>\n",
       "      <td>618.0</td>\n",
       "      <td>600.0</td>\n",
       "      <td>532.0</td>\n",
       "      <td>419.0</td>\n",
       "      <td>386.0</td>\n",
       "      <td>384.0</td>\n",
       "      <td>251.0</td>\n",
       "      <td>92.0</td>\n",
       "      <td>21.0</td>\n",
       "    </tr>\n",
       "    <tr>\n",
       "      <th>Воскресение</th>\n",
       "      <td>7.0</td>\n",
       "      <td>8.0</td>\n",
       "      <td>1.0</td>\n",
       "      <td>2.0</td>\n",
       "      <td>1.0</td>\n",
       "      <td>5.0</td>\n",
       "      <td>15.0</td>\n",
       "      <td>59.0</td>\n",
       "      <td>226.0</td>\n",
       "      <td>639.0</td>\n",
       "      <td>...</td>\n",
       "      <td>777.0</td>\n",
       "      <td>609.0</td>\n",
       "      <td>432.0</td>\n",
       "      <td>472.0</td>\n",
       "      <td>382.0</td>\n",
       "      <td>563.0</td>\n",
       "      <td>433.0</td>\n",
       "      <td>430.0</td>\n",
       "      <td>115.0</td>\n",
       "      <td>13.0</td>\n",
       "    </tr>\n",
       "  </tbody>\n",
       "</table>\n",
       "<p>7 rows × 24 columns</p>\n",
       "</div>"
      ],
      "text/plain": [
       "hour           0    1     2    3     4     5      6      7      8       9   \\\n",
       "Понедельник   1.0  3.0   1.0  0.0  17.0  26.0  142.0  369.0  602.0  1281.0   \n",
       "Вторник       8.0  8.0  19.0  9.0   2.0  38.0  132.0  278.0  493.0  1075.0   \n",
       "Среда        12.0  2.0   2.0  0.0   4.0  15.0  108.0  261.0  639.0  1059.0   \n",
       "Четверг       2.0  1.0   1.0  3.0  14.0  18.0  138.0  189.0  505.0  1271.0   \n",
       "Пятница       5.0  7.0  18.0  0.0   1.0  30.0  120.0  260.0  647.0  1228.0   \n",
       "Суббота       7.0  6.0   2.0  0.0   3.0  11.0   45.0  136.0  345.0   821.0   \n",
       "Воскресение   7.0  8.0   1.0  2.0   1.0   5.0   15.0   59.0  226.0   639.0   \n",
       "\n",
       "hour         ...     14     15     16      17      18      19      20      21  \\\n",
       "Понедельник  ...  746.0  808.0  980.0  1187.0  1652.0  1961.0  1586.0  1199.0   \n",
       "Вторник      ...  723.0  639.0  898.0  1238.0  1324.0  1956.0  1715.0  1323.0   \n",
       "Среда        ...  701.0  700.0  801.0  1226.0  1519.0  1799.0  1480.0  1019.0   \n",
       "Четверг      ...  722.0  802.0  809.0  1185.0  1592.0  2188.0  1719.0  1101.0   \n",
       "Пятница      ...  855.0  817.0  884.0  1100.0  1100.0  1221.0   963.0   743.0   \n",
       "Суббота      ...  847.0  618.0  600.0   532.0   419.0   386.0   384.0   251.0   \n",
       "Воскресение  ...  777.0  609.0  432.0   472.0   382.0   563.0   433.0   430.0   \n",
       "\n",
       "hour            22     23  \n",
       "Понедельник  391.0   77.0  \n",
       "Вторник      544.0   74.0  \n",
       "Среда        360.0   60.0  \n",
       "Четверг      499.0  141.0  \n",
       "Пятница      220.0   21.0  \n",
       "Суббота       92.0   21.0  \n",
       "Воскресение  115.0   13.0  \n",
       "\n",
       "[7 rows x 24 columns]"
      ]
     },
     "execution_count": 18,
     "metadata": {},
     "output_type": "execute_result"
    }
   ],
   "source": [
    "# воспользуемся функцией pivot, чтобы создать сводную таблицу (нужно для создания heatmap)\n",
    "heat_weekdhour = workouts_hourday.pivot(index=\"dayofweek\", \n",
    "                                        columns=\"hour\", \n",
    "                                        values=\"workout_id\")\n",
    "# заменим NA значения на 0\n",
    "heat_weekdhour.fillna(0, inplace=True)\n",
    "# переопределим значения дня недели\n",
    "heat_weekdhour.index = [\n",
    "    'Понедельник',\n",
    "    'Вторник',\n",
    "    'Среда',\n",
    "    'Четверг',\n",
    "    'Пятница',\n",
    "    'Суббота',\n",
    "    'Воскресение']\n",
    "heat_weekdhour # посмотрим что получилось"
   ]
  },
  {
   "cell_type": "code",
   "execution_count": 19,
   "id": "31254560",
   "metadata": {},
   "outputs": [
    {
     "data": {
      "image/png": "[encoded data removed]",
      "text/plain": [
       "<Figure size 1440x576 with 2 Axes>"
      ]
     },
     "metadata": {
      "needs_background": "light"
     },
     "output_type": "display_data"
    }
   ],
   "source": [
    "plt.figure(figsize=(20,8))\n",
    "sns.heatmap(heat_weekdhour, \n",
    "            annot = True, # в ячейках значения\n",
    "            cmap = \"YlGnBu\", #цветовая карта\n",
    "            fmt = 'g') # формат чисел без запятой\n",
    "plt.title(\"Нагрузка по часам и дням недели\")\n",
    "plt.ylabel(\"День недели\")\n",
    "plt.xlabel(\"Час\")\n",
    "plt.show()"
   ]
  }
 ],
 "metadata": {
  "kernelspec": {
   "display_name": "Python 3 (ipykernel)",
   "language": "python",
   "name": "python3"
  },
  "language_info": {
   "codemirror_mode": {
    "name": "ipython",
    "version": 3
   },
   "file_extension": ".py",
   "mimetype": "text/x-python",
   "name": "python",
   "nbconvert_exporter": "python",
   "pygments_lexer": "ipython3",
   "version": "3.9.12"
  }
 },
 "nbformat": 4,
 "nbformat_minor": 5
}
